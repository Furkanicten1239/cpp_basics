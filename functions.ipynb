{
 "cells": [
  {
   "cell_type": "markdown",
   "id": "22e71b07",
   "metadata": {},
   "source": [
    "Void function definition: This is a user-defined function that does not take any parameters and does not return a value. It simply prints \"GeeksforGeeks\" to the console. The return type void indicates that it doesn't return anything."
   ]
  },
  {
   "cell_type": "code",
   "execution_count": null,
   "id": "5d77fef5",
   "metadata": {
    "vscode": {
     "languageId": "cpp"
    }
   },
   "outputs": [],
   "source": [
    "#include <cstdio>\n",
    "#include <iostream>\n",
    "\n",
    "void hello() {\n",
    "    std::printf(\"GeeksforGeeks\\n\");\n",
    "}"
   ]
  },
  {
   "cell_type": "markdown",
   "id": "d28e5827",
   "metadata": {},
   "source": [
    "Return-type function definition"
   ]
  },
  {
   "cell_type": "code",
   "execution_count": 120,
   "id": "8fdfc68f",
   "metadata": {
    "vscode": {
     "languageId": "cpp"
    }
   },
   "outputs": [],
   "source": [
    "int square(int x) {\n",
    "    return x * x;\n",
    "}"
   ]
  },
  {
   "cell_type": "code",
   "execution_count": null,
   "id": "80621d83",
   "metadata": {
    "vscode": {
     "languageId": "cpp"
    }
   },
   "outputs": [
    {
     "name": "stdout",
     "output_type": "stream",
     "text": [
      "GeeksforGeeks\n",
      "Square of 5 is: 25\n"
     ]
    }
   ],
   "source": [
    "int main() {\n",
    "    // Calling the void function\n",
    "    hello();\n",
    "    // Calling the return-type function\n",
    "    int result = square(5);\n",
    "    std::printf(\"Square of 5 is: %d\\n\", result);\n",
    "    return 0;\n",
    "}\n",
    "main();"
   ]
  },
  {
   "cell_type": "markdown",
   "id": "a9f6bad2",
   "metadata": {},
   "source": [
    "**Return-based Function**"
   ]
  },
  {
   "cell_type": "code",
   "execution_count": null,
   "id": "5b45f8e4",
   "metadata": {
    "vscode": {
     "languageId": "cpp"
    }
   },
   "outputs": [],
   "source": [
    "return_type function_name(parameter_list) {\n",
    "    // body of the function\n",
    "}"
   ]
  },
  {
   "cell_type": "code",
   "execution_count": 124,
   "id": "99045a00",
   "metadata": {
    "vscode": {
     "languageId": "cpp"
    }
   },
   "outputs": [],
   "source": [
    "int add(int a, int b) {\n",
    "    return a + b;\n",
    "}"
   ]
  },
  {
   "cell_type": "code",
   "execution_count": 127,
   "id": "7e6081f6",
   "metadata": {
    "vscode": {
     "languageId": "cpp"
    }
   },
   "outputs": [
    {
     "name": "stdout",
     "output_type": "stream",
     "text": [
      "Addition result: 9"
     ]
    }
   ],
   "source": [
    "int main() {\n",
    "    \n",
    "\n",
    "    // Calling the multiply function\n",
    "    int result = add(4, 5);\n",
    "    std::printf(\"Addition result: %d\", result);\n",
    "\n",
    "    return 0;\n",
    "}\n",
    "main();"
   ]
  },
  {
   "cell_type": "markdown",
   "id": "604ddc85",
   "metadata": {},
   "source": [
    "**Void Based Functions**"
   ]
  },
  {
   "cell_type": "code",
   "execution_count": 128,
   "id": "5e03a739",
   "metadata": {
    "vscode": {
     "languageId": "cpp"
    }
   },
   "outputs": [],
   "source": [
    "#include <iostream>\n",
    "\n",
    "// Defining function that prints given number\n",
    "void printNum(int n){\n",
    "    std::printf(\"%d\\n\", n);\n",
    "}\n"
   ]
  },
  {
   "cell_type": "code",
   "execution_count": 130,
   "id": "bbb75d00",
   "metadata": {
    "vscode": {
     "languageId": "cpp"
    }
   },
   "outputs": [
    {
     "name": "stdout",
     "output_type": "stream",
     "text": [
      "10\n",
      "99\n"
     ]
    }
   ],
   "source": [
    "\n",
    "int main() {\n",
    "    int num1 = 10;\n",
    "    int num2 = 99;\n",
    "    \n",
    "    // Calling printNum and passing both\n",
    "    // num1 and num2 to it one by one\n",
    "    printNum(num1);\n",
    "    printNum(num2);\n",
    "    return 0;\n",
    "}\n",
    "main();"
   ]
  }
 ],
 "metadata": {
  "kernelspec": {
   "display_name": "C++17",
   "language": "C++17",
   "name": "xcpp17"
  },
  "language_info": {
   "codemirror_mode": "text/x-c++src",
   "file_extension": ".cpp",
   "mimetype": "text/x-c++src",
   "name": "c++",
   "version": "17"
  }
 },
 "nbformat": 4,
 "nbformat_minor": 5
}
