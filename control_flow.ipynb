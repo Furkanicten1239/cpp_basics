{
 "cells": [
  {
   "cell_type": "markdown",
   "id": "b36ae78f",
   "metadata": {},
   "source": [
    "## C++ Notes:  Conditional Statements (if, else, else if, switch-case, ternary operator)\n"
   ]
  },
  {
   "cell_type": "markdown",
   "id": "01f6364a",
   "metadata": {},
   "source": [
    "**If, Else, Elseif**"
   ]
  },
  {
   "cell_type": "code",
   "execution_count": null,
   "id": "b8a455f1",
   "metadata": {
    "vscode": {
     "languageId": "cpp"
    }
   },
   "outputs": [],
   "source": [
    "if (statement) {commands;}\n",
    "else (statement) {commands;}\n",
    "else if (statement) {commands;}"
   ]
  },
  {
   "cell_type": "code",
   "execution_count": 3,
   "id": "5bc69378",
   "metadata": {
    "vscode": {
     "languageId": "cpp"
    }
   },
   "outputs": [
    {
     "name": "stdout",
     "output_type": "stream",
     "text": [
      "a is not equal to 5 or 10"
     ]
    }
   ],
   "source": [
    "#include <iostream>\n",
    "int main()\n",
    "{\n",
    "    int a;\n",
    "    std::cin >> a;\n",
    "\n",
    "    if (a == 5) {\n",
    "        std::cout << \"a is equal to 5\";\n",
    "    }\n",
    "    else if (a == 10) {\n",
    "        std::cout << \"a is equal to 10\";\n",
    "    }\n",
    "    else {\n",
    "        std::cout << \"a is not equal to 5 or 10\";\n",
    "    }\n",
    "    return 0;\n",
    "}\n",
    "main();"
   ]
  },
  {
   "cell_type": "markdown",
   "id": "ada88928",
   "metadata": {},
   "source": [
    "**Ternary Operator**\n",
    "- It can be used for statements with only 2 cases."
   ]
  },
  {
   "cell_type": "code",
   "execution_count": null,
   "id": "77ec8325",
   "metadata": {
    "vscode": {
     "languageId": "cpp"
    }
   },
   "outputs": [],
   "source": [
    "#include <iostream>\n",
    "\n",
    "int main()\n",
    "{\n",
    "    int a;\n",
    "    std::cin >> a;\n",
    "\n",
    "    std::cout << (a == 5 ? \"a is equal to 5\"\n",
    "                    : \"a is not equal to 5\");\n",
    "    return 0;\n",
    "}\n"
   ]
  },
  {
   "cell_type": "markdown",
   "id": "93919386",
   "metadata": {},
   "source": [
    "**Switch Case Statement**\n",
    "- It can be used for statement with different variable cases which make the code easier to read."
   ]
  },
  {
   "cell_type": "code",
   "execution_count": null,
   "id": "259cd892",
   "metadata": {
    "vscode": {
     "languageId": "cpp"
    }
   },
   "outputs": [],
   "source": [
    "switch (variable) {\n",
    "    case value1:\n",
    "        commands;\n",
    "        break;\n",
    "    case value2:\n",
    "        commands;\n",
    "        break;\n",
    "    default:// optional. It helps if none of the cases is matched.\n",
    "        commands;\n",
    "}\n"
   ]
  },
  {
   "cell_type": "code",
   "execution_count": 8,
   "id": "de1b2889",
   "metadata": {
    "vscode": {
     "languageId": "cpp"
    }
   },
   "outputs": [
    {
     "name": "stdout",
     "output_type": "stream",
     "text": [
      "a is not equal to 5 or 10"
     ]
    }
   ],
   "source": [
    "#include <iostream>\n",
    "int main()\n",
    "{\n",
    "    int a;\n",
    "    std::cin >> a;\n",
    "    \n",
    "    switch (a) {\n",
    "    case 5:\n",
    "        std::cout << \"a is equal to 5\";\n",
    "        break;\n",
    "    case 10:\n",
    "        std::cout << \"a is equal to 10\";\n",
    "        break;\n",
    "    default:\n",
    "        std::cout << \"a is not equal to 5 or 10\";\n",
    "    }\n",
    "    return 0;\n",
    "}\n",
    "main();"
   ]
  },
  {
   "cell_type": "markdown",
   "id": "555b9e1d",
   "metadata": {},
   "source": [
    "## C++ Notes:  Looping Statements (for, while, do-while, nested-loop)\n"
   ]
  },
  {
   "cell_type": "markdown",
   "id": "918ba658",
   "metadata": {},
   "source": [
    "**For Loop**"
   ]
  },
  {
   "cell_type": "markdown",
   "id": "d9b22cc3",
   "metadata": {},
   "source": [
    "There is small use example in below. \n",
    "- Define the variable in initialization part. \n",
    "- Define the condition. Until when, the loop will continue.\n",
    "- Define the increment. What will happen to the related variable in each loop. Will it increase or decrease."
   ]
  },
  {
   "cell_type": "code",
   "execution_count": null,
   "id": "aee294d5",
   "metadata": {
    "vscode": {
     "languageId": "cpp"
    }
   },
   "outputs": [],
   "source": [
    "for (initialization; condition; increment) {\n",
    "    // code to be executed\n",
    "}"
   ]
  },
  {
   "cell_type": "code",
   "execution_count": 2,
   "id": "f248e396",
   "metadata": {
    "vscode": {
     "languageId": "cpp"
    }
   },
   "outputs": [
    {
     "name": "stdout",
     "output_type": "stream",
     "text": [
      "10\n",
      "9\n",
      "8\n",
      "7\n",
      "6\n",
      "5\n"
     ]
    }
   ],
   "source": [
    "#include <iostream>\n",
    "int main()\n",
    "\n",
    "{\n",
    "    for (int i = 10; i >= 5; i--) {\n",
    "        std::cout << i << \"\\n\";\n",
    "    }\n",
    "    return 0;\n",
    "}\n",
    "main();"
   ]
  },
  {
   "cell_type": "markdown",
   "id": "ba87f9fa",
   "metadata": {},
   "source": [
    "**Nested-Loops**\n",
    "- For loop inside of another one."
   ]
  },
  {
   "cell_type": "code",
   "execution_count": 7,
   "id": "acd52551",
   "metadata": {
    "vscode": {
     "languageId": "cpp"
    }
   },
   "outputs": [
    {
     "name": "stdout",
     "output_type": "stream",
     "text": [
      "i=0 j=0\n",
      "i=0 j=1\n",
      "i=1 j=0\n",
      "i=1 j=1\n"
     ]
    }
   ],
   "source": [
    "#include <iostream>\n",
    "\n",
    "int main()\n",
    "{\n",
    "    for (int i = 0; i < 2; i++) {\n",
    "        for (int j = 0; j < 2; j++) {\n",
    "            std::cout << \"i=\" << i << \" j=\" << j << \"\\n\";\n",
    "        }\n",
    "    }\n",
    "}\n",
    "main();"
   ]
  },
  {
   "cell_type": "code",
   "execution_count": null,
   "id": "c00e8622",
   "metadata": {
    "vscode": {
     "languageId": "cpp"
    }
   },
   "outputs": [],
   "source": [
    "#include <iostream>\n",
    "#include <vector>\n",
    "\n",
    "int main() {\n",
    "  \n",
    "  \tvector<int> arr = {1, 2, 3, 4, 5};\n",
    "    \n",
    "    // By value\n",
    "    std::cout << \"Iterating by value\" << endl;\n",
    "    for(auto it : arr){\n",
    "        std::cout << it <<\" \";\n",
    "    }\n",
    "    std::cout<< endl;\n",
    "    \n",
    "    // By reference\n",
    "    std::cout << \"Iterating with reference\" << endl;\n",
    "    for(auto &it : arr){\n",
    "        std::cout << it << \" \";\n",
    "    }\n",
    "    std::cout<<endl;\n",
    "    return 0;\n",
    "}\n",
    "main();\n"
   ]
  },
  {
   "cell_type": "markdown",
   "id": "bc9aecc0",
   "metadata": {},
   "source": [
    "**While Loop**"
   ]
  },
  {
   "cell_type": "code",
   "execution_count": null,
   "id": "b8da392e",
   "metadata": {
    "vscode": {
     "languageId": "cpp"
    }
   },
   "outputs": [],
   "source": [
    "while (condition) {\n",
    "    // code to be executed\n",
    "}"
   ]
  },
  {
   "cell_type": "code",
   "execution_count": 5,
   "id": "641dd842",
   "metadata": {
    "vscode": {
     "languageId": "cpp"
    }
   },
   "outputs": [
    {
     "name": "stdout",
     "output_type": "stream",
     "text": [
      "0\n",
      "1\n",
      "2\n",
      "3\n",
      "4\n",
      "5\n",
      "6\n",
      "7\n",
      "8\n",
      "9\n",
      "10\n",
      "11\n",
      "12\n",
      "13\n",
      "14\n",
      "15\n",
      "16\n",
      "17\n",
      "18\n",
      "19\n",
      "20\n",
      "21\n",
      "22\n",
      "23\n",
      "24\n",
      "25\n",
      "26\n",
      "27\n",
      "28\n",
      "29\n",
      "30\n",
      "31\n",
      "32\n",
      "33\n",
      "34\n",
      "35\n",
      "36\n",
      "37\n",
      "38\n",
      "39\n",
      "40\n",
      "41\n",
      "42\n",
      "43\n",
      "44\n",
      "45\n",
      "46\n",
      "47\n",
      "48\n",
      "49\n",
      "50\n",
      "51\n",
      "52\n",
      "53\n",
      "54\n",
      "55\n",
      "56\n",
      "57\n",
      "58\n",
      "59\n",
      "60\n",
      "61\n",
      "62\n",
      "63\n",
      "64\n",
      "65\n",
      "66\n",
      "67\n",
      "68\n"
     ]
    }
   ],
   "source": [
    "#include <iostream>\n",
    "int main()\n",
    "{\n",
    "    int count = 0;\n",
    "    while (count <= 68) {\n",
    "        std::cout << count << \"\\n\";\n",
    "        count++;\n",
    "    }\n",
    "    return 0;\n",
    "}\n",
    "main();"
   ]
  },
  {
   "cell_type": "markdown",
   "id": "4ccc18ba",
   "metadata": {},
   "source": [
    "**Do-While Loop**\n",
    "-  It is similar to the while loop, but with one key difference: the condition is evaluated after the execution of the loop's body, ensuring that the loop's body is executed at least once."
   ]
  },
  {
   "cell_type": "code",
   "execution_count": 6,
   "id": "678b2236",
   "metadata": {
    "vscode": {
     "languageId": "cpp"
    }
   },
   "outputs": [
    {
     "name": "stdout",
     "output_type": "stream",
     "text": [
      "0\n",
      "1\n",
      "2\n",
      "3\n",
      "4\n",
      "5\n",
      "6\n",
      "7\n",
      "8\n",
      "9\n",
      "10\n",
      "11\n",
      "12\n",
      "13\n",
      "14\n",
      "15\n",
      "16\n",
      "17\n",
      "18\n",
      "19\n",
      "20\n",
      "21\n",
      "22\n",
      "23\n",
      "24\n",
      "25\n",
      "26\n",
      "27\n",
      "28\n",
      "29\n",
      "30\n",
      "31\n",
      "32\n",
      "33\n",
      "34\n",
      "35\n",
      "36\n",
      "37\n",
      "38\n",
      "39\n",
      "40\n",
      "41\n",
      "42\n",
      "43\n",
      "44\n",
      "45\n",
      "46\n",
      "47\n",
      "48\n",
      "49\n",
      "50\n",
      "51\n",
      "52\n",
      "53\n",
      "54\n",
      "55\n",
      "56\n",
      "57\n",
      "58\n",
      "59\n",
      "60\n",
      "61\n",
      "62\n",
      "63\n",
      "64\n",
      "65\n",
      "66\n",
      "67\n",
      "68\n"
     ]
    }
   ],
   "source": [
    "#include <iostream>\n",
    "int main()\n",
    "{\n",
    "    int count = 0;\n",
    "    do {\n",
    "        std::cout << count << \"\\n\";\n",
    "        count++;\n",
    "    } while (count <= 68);\n",
    "    return 0;\n",
    "}\n",
    "main();"
   ]
  },
  {
   "cell_type": "markdown",
   "id": "c000ebb9",
   "metadata": {},
   "source": [
    "## C++ Notes: Jump Statements (break, continue, return)\n"
   ]
  },
  {
   "cell_type": "markdown",
   "id": "bafa6710",
   "metadata": {},
   "source": [
    "**Break Statement**"
   ]
  },
  {
   "cell_type": "code",
   "execution_count": 9,
   "id": "a58899d6",
   "metadata": {
    "vscode": {
     "languageId": "cpp"
    }
   },
   "outputs": [
    {
     "name": "stdout",
     "output_type": "stream",
     "text": [
      "0 1 2 3 4 "
     ]
    }
   ],
   "source": [
    "#include <iostream>\n",
    "int main()\n",
    "{\n",
    "    for (int i = 0; i < 10; i++) {\n",
    "        if (i == 5)// if i is 5, exit the for loop\n",
    "            break;\n",
    "        std::cout << i << \" \"; // it will print numbers until if statemnt goes to break.\n",
    "    }\n",
    "    return 0;\n",
    "}\n",
    "main();"
   ]
  },
  {
   "cell_type": "markdown",
   "id": "586cc907",
   "metadata": {},
   "source": [
    "**Continue Statement**\n",
    "- It helps to skip the operations for that case in the loop.\n",
    "- Thus, while \"break\" command is finishing the loop, \"continue\" is just skipping the current iteration."
   ]
  },
  {
   "cell_type": "code",
   "execution_count": 10,
   "id": "43a42805",
   "metadata": {
    "vscode": {
     "languageId": "cpp"
    }
   },
   "outputs": [
    {
     "name": "stdout",
     "output_type": "stream",
     "text": [
      "0 2 4 6 8 "
     ]
    }
   ],
   "source": [
    "#include <iostream>\n",
    "int main()\n",
    "{\n",
    "    for (int i = 0; i < 10; i++) {\n",
    "        if (i % 2 == 1)\n",
    "            continue; // it will skip the odd numbers\n",
    "        std::cout << i << \" \";\n",
    "    }\n",
    "    return 0;\n",
    "}\n",
    "main();"
   ]
  },
  {
   "cell_type": "markdown",
   "id": "f9165a52",
   "metadata": {},
   "source": [
    "**Return Statement**"
   ]
  },
  {
   "cell_type": "code",
   "execution_count": null,
   "id": "0efe585b",
   "metadata": {
    "vscode": {
     "languageId": "cpp"
    }
   },
   "outputs": [],
   "source": [
    "#include <iostream>\n",
    "\n",
    "bool isEven(int N) { return N % 2 == 0; }// definition of a command. Similar to \"def\" in python\n",
    "\n",
    "int main()\n",
    "{\n",
    "    std::cin >> N;\n",
    "    if (isEven(N)) {\n",
    "        std::cout << \"N is even\";\n",
    "    }\n",
    "    else {\n",
    "        std::cout << \"N is odd\";\n",
    "    }\n",
    "    return 0;\n",
    "}"
   ]
  }
 ],
 "metadata": {
  "kernelspec": {
   "display_name": "C++17",
   "language": "C++17",
   "name": "xcpp17"
  },
  "language_info": {
   "codemirror_mode": "text/x-c++src",
   "file_extension": ".cpp",
   "mimetype": "text/x-c++src",
   "name": "C++17",
   "version": "17"
  }
 },
 "nbformat": 4,
 "nbformat_minor": 5
}
