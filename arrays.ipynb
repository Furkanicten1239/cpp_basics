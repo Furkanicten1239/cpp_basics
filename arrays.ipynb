{
 "cells": [
  {
   "cell_type": "markdown",
   "id": "05268440",
   "metadata": {},
   "source": [
    "## C++ Notes: Arrays"
   ]
  },
  {
   "cell_type": "code",
   "execution_count": 2,
   "id": "c28a4511",
   "metadata": {
    "vscode": {
     "languageId": "cpp"
    }
   },
   "outputs": [
    {
     "name": "stdout",
     "output_type": "stream",
     "text": [
      "12 2"
     ]
    }
   ],
   "source": [
    "#include <iostream>\n",
    "\n",
    "int main() {\n",
    "    int arr[] = {2, 4, 8, 12, 16};\n",
    "    \n",
    "    // Accessing fourth element\n",
    "    std::cout << arr[3] << \" \";\n",
    "    \n",
    "    // Accessing first element\n",
    "    std::cout << arr[0];\n",
    "    \n",
    "    return 0;\n",
    "}\n",
    "main();"
   ]
  },
  {
   "cell_type": "markdown",
   "id": "78990ec4",
   "metadata": {},
   "source": [
    "Lets update some array elements"
   ]
  },
  {
   "cell_type": "code",
   "execution_count": 5,
   "id": "ed174406",
   "metadata": {
    "vscode": {
     "languageId": "cpp"
    }
   },
   "outputs": [
    {
     "name": "stdout",
     "output_type": "stream",
     "text": [
      "fourth element: 12\n",
      "updated fourth element: 68\n",
      "2"
     ]
    }
   ],
   "source": [
    "#include <iostream>\n",
    "\n",
    "int main() {\n",
    "    int arr[] = {2, 4, 8, 12, 16};\n",
    "    \n",
    "    // Accessing fourth element\n",
    "    std::cout << \"fourth element: \" << arr[3] << \"\\n\";\n",
    "    arr[3] = 68; // Updating fourth element\n",
    "    std::cout << \"updated fourth element: \" << arr[3] << \"\\n\";\n",
    "\n",
    "    // Accessing first element\n",
    "    std::cout << arr[0];\n",
    "    \n",
    "    return 0;\n",
    "}\n",
    "main();"
   ]
  },
  {
   "cell_type": "markdown",
   "id": "bab89c93",
   "metadata": {},
   "source": [
    "Printing each element one by one"
   ]
  },
  {
   "cell_type": "code",
   "execution_count": 7,
   "id": "eaf3e35b",
   "metadata": {
    "vscode": {
     "languageId": "cpp"
    }
   },
   "outputs": [
    {
     "name": "stdout",
     "output_type": "stream",
     "text": [
      "2 4 8 12 16 "
     ]
    }
   ],
   "source": [
    "#include <iostream>\n",
    "\n",
    "int main() {\n",
    "    int arr[5] = {2, 4, 8, 12, 16};\n",
    "    \n",
    "    // Traversing and printing arr\n",
    "    for (int i = 0; i < 5; i++)\n",
    "        std::cout << arr[i] << \" \";\n",
    "    \n",
    "    return 0;\n",
    "}\n",
    "main();"
   ]
  },
  {
   "cell_type": "markdown",
   "id": "58104a0e",
   "metadata": {},
   "source": [
    "**Size of array**"
   ]
  },
  {
   "cell_type": "markdown",
   "id": "2ae755a8",
   "metadata": {},
   "source": [
    "By size of command we get 20, because it gives us the overall bytes. To find length, we divide one element's size to the overall size."
   ]
  },
  {
   "cell_type": "code",
   "execution_count": 9,
   "id": "89659303",
   "metadata": {
    "vscode": {
     "languageId": "cpp"
    }
   },
   "outputs": [
    {
     "name": "stdout",
     "output_type": "stream",
     "text": [
      "Size of arr[0]: 4\n",
      "Size of arr: 20\n",
      "Length of an array: 5\n"
     ]
    }
   ],
   "source": [
    "#include <iostream>\n",
    "\n",
    "int main() {\n",
    "    int arr[] = {40, 82, 68, 11, 13};\n",
    "\n",
    "    // Size of one element of an array\n",
    "    std::cout << \"Size of arr[0]: \" << sizeof(arr[0])\n",
    "    << \"\\n\";\n",
    "\n",
    "    // Size of  'arr'\n",
    "    std::cout << \"Size of arr: \" << sizeof(arr) << \"\\n\";\n",
    "\n",
    "    // Length of an array\n",
    "    int n = sizeof(arr) / sizeof(arr[0]);\n",
    "\n",
    "    std::cout << \"Length of an array: \" << n << \"\\n\";\n",
    "\n",
    "    return 0;\n",
    "}\n",
    "main();"
   ]
  },
  {
   "cell_type": "markdown",
   "id": "05975026",
   "metadata": {},
   "source": [
    "**Arrays and Pointers**\n",
    "- The array name can be treated as a constant pointer that stored the memory address of the first element of the array."
   ]
  },
  {
   "cell_type": "code",
   "execution_count": 12,
   "id": "ed670871",
   "metadata": {
    "vscode": {
     "languageId": "cpp"
    }
   },
   "outputs": [
    {
     "name": "stdout",
     "output_type": "stream",
     "text": [
      "0x7fffe3209a20\n",
      "0x7fffe3209a20\n",
      "0x7fffe3209a24\n"
     ]
    }
   ],
   "source": [
    "#include <iostream>\n",
    "\n",
    "int main() {\n",
    "    int arr[5];\n",
    "    \n",
    "    // Printing array name\n",
    "    std::cout << arr << std::endl;\n",
    "    \n",
    "    // Printing address of first element\n",
    "    std::cout << &arr[0] << std::endl;\n",
    "\n",
    "    // printing address of second element\n",
    "    std::cout << &arr[1] << std::endl;\n",
    "\n",
    "    return 0;\n",
    "}\n",
    "main();"
   ]
  }
 ],
 "metadata": {
  "kernelspec": {
   "display_name": "C++17",
   "language": "C++17",
   "name": "xcpp17"
  },
  "language_info": {
   "codemirror_mode": "text/x-c++src",
   "file_extension": ".cpp",
   "mimetype": "text/x-c++src",
   "name": "c++",
   "version": "17"
  }
 },
 "nbformat": 4,
 "nbformat_minor": 5
}
