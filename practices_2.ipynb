{
 "cells": [
  {
   "cell_type": "markdown",
   "id": "637f009a",
   "metadata": {},
   "source": [
    "# Example Problem\n",
    "Given the main program and the function Fun"
   ]
  },
  {
   "cell_type": "code",
   "execution_count": 1,
   "id": "5d22fa29",
   "metadata": {
    "vscode": {
     "languageId": "cpp"
    }
   },
   "outputs": [],
   "source": [
    "#include <iostream>\n",
    "void Fun(int *a, int *b) {\n",
    "    a = a + 5;\n",
    "    b = a - 2;\n",
    "    //std::cout << \"VALUES INSIDE OF THE VOID FUNCTION \" << \"p: \" << *a << \" q: \" << *b << std::endl; \n",
    "}\n"
   ]
  },
  {
   "cell_type": "code",
   "execution_count": null,
   "id": "cd2bd9b6",
   "metadata": {
    "vscode": {
     "languageId": "cpp"
    }
   },
   "outputs": [
    {
     "name": "stdout",
     "output_type": "stream",
     "text": [
      "Before -> p points to value: 3, q points to value: 105\n",
      "After  -> p points to value: 3, q points to value: 105\n"
     ]
    }
   ],
   "source": [
    "int main(){\n",
    "    int a[50], b[50];\n",
    "    for(int i = 0; i < 50; i++){\n",
    "        a[i] = i;\n",
    "        b[i] = 100+i;\n",
    "    }\n",
    "    int *p, *q;\n",
    "    p = a + 3; // p points to a[3], which is 3\n",
    "    q = b + 5; // q points to b[5], which is 105\n",
    "    \n",
    "    std::cout << \"Before -> p points to value: \" << *p << \", q points to value: \" << *q << std::endl; \n",
    "    \n",
    "    Fun(p,q);\n",
    "    \n",
    "    std::cout << \"After  -> p points to value: \" << *p << \", q points to value: \" << *q << std::endl; \n",
    "}\n",
    "main();"
   ]
  },
  {
   "cell_type": "markdown",
   "id": "131dcdc0",
   "metadata": {},
   "source": [
    "# a. What are the values the variables p and q are pointing to after the execution of line (X)?"
   ]
  },
  {
   "cell_type": "markdown",
   "id": "7f37ff30",
   "metadata": {},
   "source": [
    "**Solution for part a**\n",
    "- In that code, void function is creating a copy of our variables since we dont define their adresses in the line. \n",
    "- Therefore, if we use it outside of the system, p and q values will be the same and wont change"
   ]
  },
  {
   "cell_type": "markdown",
   "id": "f2d4456f",
   "metadata": {},
   "source": [
    "# Example\n",
    "Alt satırdaki kodda da görüldüğü üzere pointer'a tanımlanan array'e sayı eklemek ya da çıkarmak elimizdeki pointer'ın işaret ettiği array elemanını sağa ya da sola kaydırır. \n",
    "- Burada en başta __*b = a;__  olsaydı b pointerı a array'indeki ilk elemana işaret edecekti.\n",
    "- Sonrasında ise __*b = a + 3;__ olduğu zaman ise b'nin işaret ettiği adres elemanını 3 kaydırdır ve artık a[0+3] yani a[3] elemanına işaret etmeye başladı.\n",
    "- Ardından pointer'ın işaret ettiği adresteki değeri 100'e eşitledik. a ile b'nin a[2]'deki adresi aynı yerde olduğundan b'yi değiştirince a'nın da değeri değişti."
   ]
  },
  {
   "cell_type": "code",
   "execution_count": 3,
   "id": "864fea6d",
   "metadata": {
    "vscode": {
     "languageId": "cpp"
    }
   },
   "outputs": [
    {
     "name": "stdout",
     "output_type": "stream",
     "text": [
      "0x79162c01203c\n",
      "0x79162c012038\n",
      "2\n",
      "100\n",
      "100\n"
     ]
    },
    {
     "data": {
      "text/plain": [
       "@0x79162c1fcca0"
      ]
     },
     "execution_count": 3,
     "metadata": {},
     "output_type": "execute_result"
    }
   ],
   "source": [
    "#include <iostream>\n",
    "\n",
    "int a[4]= {1,3,2,7};\n",
    "int *b = a+3;\n",
    "b--;\n",
    "\n",
    "std::cout << &a[3] << std::endl;\n",
    "std::cout << b << std::endl;\n",
    "\n",
    "std::cout << *b <<std::endl;\n",
    "*b = 100;\n",
    "\n",
    "std::cout << *b <<std::endl;\n",
    "std::cout << a[2] << std::endl;\n",
    "\n",
    "\n"
   ]
  },
  {
   "cell_type": "markdown",
   "id": "f48be177",
   "metadata": {},
   "source": [
    "# b. How should Fun be modified in order to make p point to the first element in a (a[0]) and q point to the first element in b (b[0]). Also indicate how Fun should be called in line(X)."
   ]
  },
  {
   "cell_type": "markdown",
   "id": "d3a36e5a",
   "metadata": {},
   "source": [
    "We can use reference command. By adding & before the parameters, this will make the variables like global command in python."
   ]
  },
  {
   "cell_type": "code",
   "execution_count": 6,
   "id": "5cf402c1",
   "metadata": {
    "vscode": {
     "languageId": "cpp"
    }
   },
   "outputs": [],
   "source": [
    "#include <iostream>\n",
    "void Fun1(int *&a, int *&b) {\n",
    "    a = a + 5;\n",
    "    b = a - 2;\n",
    "    //std::cout << \"VALUES INSIDE OF THE VOID FUNCTION \" << \"p: \" << *a << \" q: \" << *b << std::endl; \n",
    "}\n"
   ]
  },
  {
   "cell_type": "code",
   "execution_count": null,
   "id": "8322c97f",
   "metadata": {
    "vscode": {
     "languageId": "cpp"
    }
   },
   "outputs": [
    {
     "name": "stdout",
     "output_type": "stream",
     "text": [
      "Before -> p points to value: 3, q points to value: 105\n",
      "After  -> p points to value: 8, q points to value: 6\n"
     ]
    }
   ],
   "source": [
    "int main(){\n",
    "    int a[50], b[50];\n",
    "    for(int i = 0; i < 50; i++){\n",
    "        a[i] = i;\n",
    "        b[i] = 100+i;\n",
    "    }\n",
    "    int *p, *q;\n",
    "    p = a + 3; // p points to a[3], which is 3\n",
    "    q = b + 5; // q points to b[5], which is 105\n",
    "    \n",
    "    std::cout << \"Before -> p points to value: \" << *p << \", q points to value: \" << *q << std::endl; \n",
    "    \n",
    "    Fun1(p,q);\n",
    "    \n",
    "    std::cout << \"After  -> p points to value: \" << *p << \", q points to value: \" << *q << std::endl; \n",
    "}\n",
    "main();"
   ]
  },
  {
   "cell_type": "markdown",
   "id": "49dda8c3",
   "metadata": {},
   "source": [
    "# Second method\n",
    "In that method, we use the pointer to a pointer to an integer as a parameter. "
   ]
  },
  {
   "cell_type": "code",
   "execution_count": null,
   "id": "0f611cb8",
   "metadata": {
    "vscode": {
     "languageId": "cpp"
    }
   },
   "outputs": [],
   "source": [
    "#include <iostream>\n",
    "void Fun2(int **a, int **b) { //pointer to a a pointer to an integer\n",
    "    *a = *a + 5; // We changed the pointer's corresponding location in arrays.\n",
    "    *b = *a - 2;\n",
    "}\n"
   ]
  },
  {
   "cell_type": "code",
   "execution_count": 13,
   "id": "03790a0d",
   "metadata": {
    "vscode": {
     "languageId": "cpp"
    }
   },
   "outputs": [
    {
     "name": "stdout",
     "output_type": "stream",
     "text": [
      "Before -> p points to value: 3, q points to value: 105\n",
      "After  -> p points to value: 8, q points to value: 6\n"
     ]
    }
   ],
   "source": [
    "int main(){\n",
    "    int a[50], b[50];\n",
    "    for(int i = 0; i < 50; i++){\n",
    "        a[i] = i;\n",
    "        b[i] = 100+i;\n",
    "    }\n",
    "    int *p, *q;\n",
    "    p = a + 3; // p points to a[3], which is 3\n",
    "    q = b + 5; // q points to b[5], which is 105\n",
    "    \n",
    "    std::cout << \"Before -> p points to value: \" << *p << \", q points to value: \" << *q << std::endl; \n",
    "    \n",
    "    Fun2(&p,&q); //We defined memory adress of the pointers. Therefore, in the void command it will firstly get the corresponding pointer's adress, then the pointer.\n",
    "    \n",
    "    std::cout << \"After  -> p points to value: \" << *p << \", q points to value: \" << *q << std::endl; \n",
    "}\n",
    "main();"
   ]
  }
 ],
 "metadata": {
  "kernelspec": {
   "display_name": "C++17",
   "language": "C++17",
   "name": "xcpp17"
  },
  "language_info": {
   "codemirror_mode": "text/x-c++src",
   "file_extension": ".cpp",
   "mimetype": "text/x-c++src",
   "name": "c++",
   "version": "17"
  }
 },
 "nbformat": 4,
 "nbformat_minor": 5
}
