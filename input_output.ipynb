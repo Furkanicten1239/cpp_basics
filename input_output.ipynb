{
 "cells": [
  {
   "cell_type": "markdown",
   "id": "c54a9732",
   "metadata": {},
   "source": [
    "## C++ Notes: Input-Output"
   ]
  },
  {
   "cell_type": "markdown",
   "id": "5537bcab",
   "metadata": {},
   "source": [
    "**Input**"
   ]
  },
  {
   "cell_type": "code",
   "execution_count": 7,
   "id": "e62aa7e2",
   "metadata": {
    "vscode": {
     "languageId": "cpp"
    }
   },
   "outputs": [
    {
     "name": "stdout",
     "output_type": "stream",
     "text": [
      "Age entered: 68"
     ]
    }
   ],
   "source": [
    "#include <iostream>\n",
    "\n",
    "\n",
    "int main() {\n",
    "    int age;//since we defined it as integer it will only take integer values\n",
    "  \n",
    "  \t// Taking input from user and store\n",
    "  \t// it in variable\n",
    "    std::cin >> age;\n",
    "  \n",
    "  \t// Output the entered age\n",
    "    cout << \"Age entered: \" << age;\n",
    "    return 0;\n",
    "}\n",
    "\n",
    "main();"
   ]
  },
  {
   "cell_type": "code",
   "execution_count": 9,
   "id": "b137ccbc",
   "metadata": {
    "vscode": {
     "languageId": "cpp"
    }
   },
   "outputs": [
    {
     "name": "stdout",
     "output_type": "stream",
     "text": [
      "Name entered: furkanbabaking123"
     ]
    }
   ],
   "source": [
    "#include <iostream>\n",
    "\n",
    "int main() {\n",
    "    string name;\n",
    "  \n",
    "  \t// Taking input from user and store\n",
    "  \t// it in variable\n",
    "    std::cin >> name;\n",
    "  \n",
    "  \t// Output the entered name\n",
    "    cout << \"Name entered: \" << name;\n",
    "    return 0;\n",
    "}\n",
    "main();"
   ]
  },
  {
   "cell_type": "code",
   "execution_count": 14,
   "id": "6a7b79c1",
   "metadata": {
    "vscode": {
     "languageId": "cpp"
    }
   },
   "outputs": [],
   "source": [
    "#include <iostream>\n",
    "\n",
    "\n",
    "int main() {\n",
    "    std::clog << \"An error occurred\";\n",
    "    return 0;\n",
    "}\n",
    "main();"
   ]
  }
 ],
 "metadata": {
  "kernelspec": {
   "display_name": "C++17",
   "language": "C++17",
   "name": "xcpp17"
  },
  "language_info": {
   "codemirror_mode": "text/x-c++src",
   "file_extension": ".cpp",
   "mimetype": "text/x-c++src",
   "name": "c++",
   "version": "17"
  }
 },
 "nbformat": 4,
 "nbformat_minor": 5
}
