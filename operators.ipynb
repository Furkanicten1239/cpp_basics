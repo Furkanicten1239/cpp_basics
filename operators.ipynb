{
 "cells": [
  {
   "cell_type": "markdown",
   "id": "04a8c616",
   "metadata": {},
   "source": [
    "## C++ Notes: Operators\n"
   ]
  },
  {
   "cell_type": "markdown",
   "id": "198757f2",
   "metadata": {},
   "source": [
    "**Arithmetic Operators**\n",
    "- \n",
    "- **Addition**, +, Adds two operands\n",
    "- **Subtraction**, -, Subtracts second operand from the first\n",
    "- **Multiplication**, *, Multiplies two operands\n",
    "- **Division**, /, Divides first operand by the second operand\n",
    "- **Modulo Operation**, %, Returns the remainder of an integer division\n",
    "- **Increment**, ++, Increases the value of operand by 1\n",
    "- **Decrement**, --, Decreases the value of operand by 1"
   ]
  },
  {
   "cell_type": "code",
   "execution_count": 22,
   "id": "f30244ee",
   "metadata": {
    "vscode": {
     "languageId": "cpp"
    }
   },
   "outputs": [
    {
     "name": "stdout",
     "output_type": "stream",
     "text": [
      "a + b = 73 \n",
      "a - b = 63 \n",
      "a * b = 340 \n",
      "a / b = 13.6 \n",
      "a remains b = 3 \n",
      "++a = 69 \n",
      "--b = 4 \n"
     ]
    }
   ],
   "source": [
    "#include <iostream>\n",
    "\n",
    "\n",
    "int main() {\n",
    "    int a = 68, b = 5;\n",
    "\n",
    "    // Addition\n",
    "    std::printf(\"a + b = %d \\n\", a + b);\n",
    "    \n",
    "    // Subtraction\n",
    "    std::printf(\"a - b = %d \\n\", a - b);\n",
    "  \n",
    "    // Multiplication\n",
    "    std::printf(\"a * b = %d \\n\", a * b);\n",
    "  \n",
    "    // Division\n",
    "    std::printf(\"a / b = %g \\n\", float(a) / float(b)); //If we dont make that conversion, it will give wrong result.\n",
    "  \n",
    "    // Modulo\n",
    "    std::printf(\"a remains b = %d \\n\", a % b);\n",
    "  \n",
    "    // Increament\n",
    "    std::printf(\"++a = %d \\n\", ++a);\n",
    "  \n",
    "    // Decrement\n",
    "    std::printf(\"--b = %d \\n\", --b);\n",
    "  \n",
    "\n",
    "    \n",
    "    return 0;\n",
    "}\n",
    "main();"
   ]
  },
  {
   "cell_type": "markdown",
   "id": "ba144642",
   "metadata": {},
   "source": [
    "**Relational Operators**\n",
    "- \n",
    "- **Is Equal To**, ==, Checks if both operands are equal\n",
    "- **Greater Than**, >, Checks if the first operand is greater than the second operand\n",
    "- **Greater Than or Equal To**, >=, Checks if the first operand is greater than or equal to the second operand\n",
    "- **Less Than**, <, Checks if the first operand is lesser than the second operand\n",
    "- **Less Than or Equal To**, <=, Checks if the first operand is lesser than or equal to the second operand\n",
    "- **Not Equal To**, !=, Checks if both operands are not equal"
   ]
  },
  {
   "cell_type": "code",
   "execution_count": 27,
   "id": "249806a3",
   "metadata": {
    "vscode": {
     "languageId": "cpp"
    }
   },
   "outputs": [
    {
     "name": "stdout",
     "output_type": "stream",
     "text": [
      "a == b is 0 \n",
      "a > b is 1 \n",
      "a >= b is 1 \n",
      "a < b is 0 \n",
      "a <= b is 0 \n",
      "a != b is 1 \n"
     ]
    }
   ],
   "source": [
    "#include <iostream>\n",
    "\n",
    "// 1 means true, 0 means false\n",
    "\n",
    "\n",
    "int main() {\n",
    "    int a = 68, b = 5;\n",
    "\n",
    "    // Is equal\n",
    "    std::printf(\"a == b is %d \\n\", a == b);\n",
    "    \n",
    "    // greater than\n",
    "    std::printf(\"a > b is %d \\n\", a > b);\n",
    "  \n",
    "    // greater than or equal\n",
    "    std::printf(\"a >= b is %d \\n\", a >= b);\n",
    "  \n",
    "    // less than\n",
    "    std::printf(\"a < b is %d \\n\", a < b);\n",
    "  \n",
    "    // less than or equal\n",
    "    std::printf(\"a <= b is %d \\n\", a <= b);\n",
    "  \n",
    "    // not equal\n",
    "    std::printf(\"a != b is %d \\n\", a != b);\n",
    "  \n",
    "  \n",
    "\n",
    "    \n",
    "    return 0;\n",
    "}\n",
    "main();"
   ]
  },
  {
   "cell_type": "markdown",
   "id": "ecdbea16",
   "metadata": {},
   "source": [
    "**Logical Operators**\n",
    "- \n",
    "- **Logical AND**, &&, Returns true only if all the operands are true or non-zero\n",
    "- **Logical OR**, ||, Returns true if either of the operands is true or non-zero\n",
    "- **Logical NOT**, !, Returns true if the operand is false or zero"
   ]
  },
  {
   "cell_type": "markdown",
   "id": "74fb665f",
   "metadata": {},
   "source": [
    "**Ternary Operator**\n",
    "- \n",
    "- **Expression1 ? Expression2 : Expression3**\n",
    "\n",
    "The ternary operator ? determines the answer on the basis of the evaluation of Expression1.\n",
    "- If Expression1 is true, then Expression2 gets evaluated.\n",
    "- If Expression1 is false, then Expression3 gets evaluated."
   ]
  }
 ],
 "metadata": {
  "kernelspec": {
   "display_name": "C++17",
   "language": "C++17",
   "name": "xcpp17"
  },
  "language_info": {
   "codemirror_mode": "text/x-c++src",
   "file_extension": ".cpp",
   "mimetype": "text/x-c++src",
   "name": "C++17",
   "version": "17"
  }
 },
 "nbformat": 4,
 "nbformat_minor": 5
}
