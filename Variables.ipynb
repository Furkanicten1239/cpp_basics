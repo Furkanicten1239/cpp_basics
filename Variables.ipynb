{
 "cells": [
  {
   "cell_type": "markdown",
   "id": "4d7a6071",
   "metadata": {},
   "source": [
    "## C++ Notes: Variables"
   ]
  },
  {
   "cell_type": "markdown",
   "id": "86f7ee03",
   "metadata": {},
   "source": [
    "**Print Property**"
   ]
  },
  {
   "cell_type": "markdown",
   "id": "15652112",
   "metadata": {},
   "source": [
    "cout command helps us to print"
   ]
  },
  {
   "cell_type": "code",
   "execution_count": null,
   "id": "01558050",
   "metadata": {
    "vscode": {
     "languageId": "cpp"
    }
   },
   "outputs": [
    {
     "name": "stdout",
     "output_type": "stream",
     "text": [
      "Hello, World!\n"
     ]
    },
    {
     "data": {
      "text/plain": [
       "@0x71781d7fcca0"
      ]
     },
     "execution_count": 8,
     "metadata": {},
     "output_type": "execute_result"
    }
   ],
   "source": [
    "#include <iostream>\n",
    "\n",
    "\n",
    "    std::cout << \"Hello, World!\\n\";\n",
    "\n",
    "a\n"
   ]
  },
  {
   "cell_type": "markdown",
   "id": "f5269bac",
   "metadata": {},
   "source": [
    "Since we use notebook, we dont need to use them in int() main{}. However, in real scripts it is must."
   ]
  },
  {
   "cell_type": "markdown",
   "id": "f2db0be1",
   "metadata": {},
   "source": [
    "## C++ Variables"
   ]
  },
  {
   "cell_type": "markdown",
   "id": "5370ea3c",
   "metadata": {},
   "source": [
    "The value stored in a variable can be accessed or changed during program execution. In the code below, num variable is changed and printed again. The value is changed too"
   ]
  },
  {
   "cell_type": "code",
   "execution_count": 26,
   "id": "3b7884cd",
   "metadata": {
    "vscode": {
     "languageId": "cpp"
    }
   },
   "outputs": [
    {
     "name": "stdout",
     "output_type": "stream",
     "text": [
      "3\n",
      "7"
     ]
    },
    {
     "data": {
      "text/plain": [
       "@0x71781d7fcca0"
      ]
     },
     "execution_count": 26,
     "metadata": {},
     "output_type": "execute_result"
    }
   ],
   "source": [
    "#include <iostream>\n",
    "using namespace std;\n",
    "\n",
    "\n",
    "    // Creating a single character variable\n",
    "    int num = 3; //To store number without decimal point, we use integer data type.\n",
    "\n",
    "    // Accessing and printing above variable\n",
    "    std::cout << num << endl; //endl is used to print in new line\n",
    "\n",
    "    // Update the value\n",
    "    num = 7;\n",
    "\n",
    "    // Printing the updated value\n",
    "    std::cout << num;\n",
    "\n",
    "\n",
    "\n"
   ]
  },
  {
   "cell_type": "markdown",
   "id": "9aa4b302",
   "metadata": {},
   "source": [
    "**Creating a variable**"
   ]
  },
  {
   "cell_type": "markdown",
   "id": "3ec27dac",
   "metadata": {},
   "source": [
    "**Note:** The value we assign should be of the same type as the variable."
   ]
  },
  {
   "cell_type": "markdown",
   "id": "ec73b33b",
   "metadata": {},
   "source": [
    "**Note2:** Variable names cannot start with a number. For example, int 2num; is not allowed."
   ]
  },
  {
   "cell_type": "code",
   "execution_count": null,
   "id": "b4627e1d",
   "metadata": {
    "vscode": {
     "languageId": "cpp"
    }
   },
   "outputs": [
    {
     "name": "stdout",
     "output_type": "stream",
     "text": [
      "3 num2 oluşturuldu.\n",
      "7 num2 değiştirildi."
     ]
    }
   ],
   "source": [
    "int num;\n",
    "num = 3;\n",
    "\n",
    "// Or both can be done in a single line\n",
    "int num2 = 3;\n",
    "\n",
    "std::cout << num2 << \" num2 oluşturuldu.\";\n",
    "\n",
    "num2 = 7;\n",
    "std::cout << \"\\n\" << num2 << \" num2 değiştirildi.\";\n"
   ]
  },
  {
   "cell_type": "markdown",
   "id": "abec7493",
   "metadata": {
    "vscode": {
     "languageId": "cpp"
    }
   },
   "source": [
    "**Assigning Variable's value to another variable**"
   ]
  },
  {
   "cell_type": "code",
   "execution_count": 53,
   "id": "04c769a2",
   "metadata": {
    "vscode": {
     "languageId": "cpp"
    }
   },
   "outputs": [
    {
     "name": "stdout",
     "output_type": "stream",
     "text": [
      "68 0 num1 and num2 respectively, before we do the assignment\n",
      "68 68\n",
      "136 num3 is the sum of num1 and num2"
     ]
    }
   ],
   "source": [
    "    int num1 = 68, num2; //Here, default value of num2 is garbage value. Only num1 is initialized.\n",
    "    std::cout << num1 << \" \" << num2 << \" num1 and num2 respectively, before we do the assignment\" << \"\\n\";\n",
    "    \n",
    "    // Assigning num1's value to num2\n",
    "    num2 = num1;\n",
    "    std::cout << num1 << \" \" << num2 << \"\\n\";\n",
    "\n",
    "    //Lets add them together and store in num3\n",
    "\n",
    "    int num3 = num1 + num2;\n",
    "\n",
    "    std::cout << num3 << \" num3 is the sum of num1 and num2\";\n",
    "    return 0;"
   ]
  },
  {
   "cell_type": "markdown",
   "id": "6ed0fdab",
   "metadata": {},
   "source": [
    "**Constant Variables**"
   ]
  },
  {
   "cell_type": "markdown",
   "id": "13a72420",
   "metadata": {},
   "source": [
    "In C++, a constant variable is one whose value cannot be changed after it is initialized. This is done using the const keyword."
   ]
  },
  {
   "cell_type": "code",
   "execution_count": null,
   "id": "8fe20817",
   "metadata": {
    "vscode": {
     "languageId": "cpp"
    }
   },
   "outputs": [
    {
     "name": "stderr",
     "output_type": "stream",
     "text": [
      "input_line_79:4:9: error: cannot assign to variable 'num' with const-qualified type 'const int'\n",
      "    num = 7; // This will give error as we are trying to change the value of constant variable\n",
      "    ~~~ ^\n",
      "input_line_79:2:16: note: variable 'num' declared const here\n",
      "     const int num = 10;\n",
      "     ~~~~~~~~~~^~~~~~~~\n"
     ]
    },
    {
     "ename": "Interpreter Error",
     "evalue": "",
     "output_type": "error",
     "traceback": [
      "Interpreter Error: "
     ]
    }
   ],
   "source": [
    "    const int num = 10;\n",
    "    cout << num;\n",
    "    num = 7; // This will give error as we are trying to change the value of constant variable. We need to comment this line to run the code successfully.\n",
    "    return 0;"
   ]
  }
 ],
 "metadata": {
  "kernelspec": {
   "display_name": "C++17",
   "language": "C++17",
   "name": "xcpp17"
  },
  "language_info": {
   "codemirror_mode": "text/x-c++src",
   "file_extension": ".cpp",
   "mimetype": "text/x-c++src",
   "name": "c++",
   "version": "17"
  }
 },
 "nbformat": 4,
 "nbformat_minor": 5
}
